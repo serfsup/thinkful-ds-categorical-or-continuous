{
 "cells": [
  {
   "cell_type": "markdown",
   "metadata": {},
   "source": [
    "<h2><b>Categorical or continuous (ordinal, interval, or ratio)</b></h2>\n",
    "\n",
    "Categorize each of the variables in the ESS dataset as categorical or continuous, and if continuous as ordinal, interval, or ratio variables. Check your work with your mentor, and discuss what that information might imply for feature engineering with this data.\n",
    "\n",
    "\n",
    "<b>cntry</b> - categorical\n",
    "\n",
    "<b>year</b> - continuous (interval)\n",
    "\n",
    "<b>idno</b> - continuous (ordinal)\n",
    "\n",
    "<b>tvtot</b> - continuous (interval) / categorical*\n",
    "\n",
    "<b>ppltrst</b> - continuous (ordinal) / categorical*\n",
    "\n",
    "<b>pplfair</b> - continuous (ordinal) / categorical*\n",
    "\n",
    "<b>pplhlp</b> - continuous (ordinal) / categorical*\n",
    "\n",
    "<b>happy</b> - continuous (ordinal) / categorical*\n",
    "\n",
    "<b>sclmeet</b> - continuous (ordinal) / categorical*\n",
    "\n",
    "<b>sclact</b> - continuous (ordinal) / categorical*\n",
    "\n",
    "<b>gndr</b> - categorical\n",
    "\n",
    "<b>agea</b> - continuous (ratio)\n",
    "\n",
    "<b>partner</b> - categorical\n",
    "\n",
    "*Note, my original answer for each of these was categorical, but after rereading the documentation, I believe they are technically continuous, but could be treated as either continuous or categorical."
   ]
  },
  {
   "cell_type": "code",
   "execution_count": null,
   "metadata": {},
   "outputs": [],
   "source": []
  }
 ],
 "metadata": {
  "kernelspec": {
   "display_name": "Python 3",
   "language": "python",
   "name": "python3"
  },
  "language_info": {
   "codemirror_mode": {
    "name": "ipython",
    "version": 3
   },
   "file_extension": ".py",
   "mimetype": "text/x-python",
   "name": "python",
   "nbconvert_exporter": "python",
   "pygments_lexer": "ipython3",
   "version": "3.6.1"
  }
 },
 "nbformat": 4,
 "nbformat_minor": 2
}
